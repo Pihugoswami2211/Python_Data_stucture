{
  "nbformat": 4,
  "nbformat_minor": 0,
  "metadata": {
    "colab": {
      "provenance": []
    },
    "kernelspec": {
      "name": "python3",
      "display_name": "Python 3"
    },
    "language_info": {
      "name": "python"
    }
  },
  "cells": [
    {
      "cell_type": "code",
      "execution_count": 1,
      "metadata": {
        "colab": {
          "base_uri": "https://localhost:8080/",
          "height": 0
        },
        "id": "CTIAE2MZMCOg",
        "outputId": "07e8ca15-f32e-4072-be6d-eb38b74f2914"
      },
      "outputs": [
        {
          "output_type": "stream",
          "name": "stdout",
          "text": [
            "Enter a string : pihu\n",
            "Reversed String :  uhip\n"
          ]
        }
      ],
      "source": [
        "#1. Write a code to reverse a string::\n",
        "\n",
        "sentence = input(\"Enter a string : \")\n",
        "rev_str = sentence[::-1]\n",
        "print(\"Reversed String : \", rev_str)"
      ]
    },
    {
      "cell_type": "code",
      "source": [
        "#2. Write a code to count the number of vowels in a string::\n",
        "\n",
        "string = input(\"Enter a string : \")\n",
        "vowels = \"aeiouAEIOU\"\n",
        "count = 0\n",
        "for char in string:\n",
        "    if char in vowels:\n",
        "        count += 1\n",
        "print(\"Number of vowels = \", count)"
      ],
      "metadata": {
        "colab": {
          "base_uri": "https://localhost:8080/",
          "height": 0
        },
        "id": "flCqGLoQMK2K",
        "outputId": "2f05d750-60b0-40b0-fb75-d15fb97f4ad9"
      },
      "execution_count": 2,
      "outputs": [
        {
          "output_type": "stream",
          "name": "stdout",
          "text": [
            "Enter a string : Priyanka\n",
            "Number of vowels =  3\n"
          ]
        }
      ]
    },
    {
      "cell_type": "code",
      "source": [
        "#3. Write a code to check if  a given string is a palindrome or not::\n",
        "\n",
        "def is_palindrome(input_string):\n",
        "    input_string = input_string.replace(\" \", \"\").lower()\n",
        "    return input_string == input_string[::-1]\n",
        "\n",
        "string = input(\"Enter a string : \")\n",
        "result = is_palindrome(string)\n",
        "if result:\n",
        "    print(\"The string is a palindrome.\")\n",
        "else:\n",
        "    print(\"The string is not a palindrome.\")"
      ],
      "metadata": {
        "colab": {
          "base_uri": "https://localhost:8080/",
          "height": 0
        },
        "id": "0vgvBkb9MUGv",
        "outputId": "8141002f-7062-40e9-84c8-d24610f6cb31"
      },
      "execution_count": 4,
      "outputs": [
        {
          "output_type": "stream",
          "name": "stdout",
          "text": [
            "Enter a string : Civic\n",
            "The string is a palindrome.\n"
          ]
        }
      ]
    },
    {
      "cell_type": "code",
      "source": [
        "  #4. write a code to check if two given strings are anagrams of each other::\n",
        "\n",
        "def check_anagrams(str1, str2):\n",
        "    str1 = str1.replace(\" \", \"\").lower()\n",
        "    str2 = str2.replace(\" \", \"\").lower()\n",
        "\n",
        "    if len(str1) != len(str2):\n",
        "        return False\n",
        "\n",
        "    char_count = {}\n",
        "    for char in str1:\n",
        "        if char in char_count:\n",
        "            char_count[char] += 1\n",
        "        else:\n",
        "            char_count[char] = 1\n",
        "\n",
        "    for char in str2:\n",
        "        if char in char_count:\n",
        "            char_count[char] -= 1\n",
        "        else:\n",
        "            return False\n",
        "\n",
        "    for count in char_count.values():\n",
        "        if count != 0:\n",
        "            return False\n",
        "\n",
        "    return True\n",
        "\n",
        "\n",
        "string1 = input(\"Enter string 1 : \")\n",
        "string2 = input(\"Enter string 2 : \")\n",
        "if check_anagrams(string1, string2):\n",
        "    print(f\"{string1} and {string2} are anagrams.\")\n",
        "else:\n",
        "    print(f\"{string1} and {string2} are not anagrams.\")"
      ],
      "metadata": {
        "colab": {
          "base_uri": "https://localhost:8080/",
          "height": 0
        },
        "id": "T4CJIL9PMXeL",
        "outputId": "4870680c-4533-4f3e-c76b-cb7f9fb1a289"
      },
      "execution_count": 5,
      "outputs": [
        {
          "output_type": "stream",
          "name": "stdout",
          "text": [
            "Enter string 1 : cat\n",
            "Enter string 2 : act\n",
            "cat and act are anagrams.\n"
          ]
        }
      ]
    },
    {
      "cell_type": "code",
      "source": [
        "#5. write a code to find all occurrences of a given substring within another string::\n",
        "\n",
        "def find_occurrences(main_string, sub_string):\n",
        "    occurrences = []\n",
        "    start_index = 0\n",
        "\n",
        "    while True:\n",
        "        index = main_string.find(sub_string, start_index)\n",
        "        if index == -1:\n",
        "            break\n",
        "        occurrences.append(index)\n",
        "        start_index = index + 1\n",
        "\n",
        "    return occurrences\n",
        "\n",
        "\n",
        "main_string = input(\"Enter the main string : \")\n",
        "sub_string = input(\"Enter the sub-string : \")\n",
        "result = find_occurrences(main_string, sub_string)\n",
        "print(\"Occurrences of '{}' in '{}':\".format(sub_string, main_string))\n",
        "print(result)"
      ],
      "metadata": {
        "colab": {
          "base_uri": "https://localhost:8080/",
          "height": 0
        },
        "id": "Qbw4vUgiMiuD",
        "outputId": "cc08ceb6-f9c9-4f5b-b04f-d664367301b0"
      },
      "execution_count": 6,
      "outputs": [
        {
          "output_type": "stream",
          "name": "stdout",
          "text": [
            "Enter the main string : Hey ! I am Priyanka\n",
            "Enter the sub-string : a\n",
            "Occurrences of 'a' in 'Hey ! I am Priyanka':\n",
            "[8, 15, 18]\n"
          ]
        }
      ]
    },
    {
      "cell_type": "code",
      "source": [
        "    #6 Write a code to perform basic string compression using the counts of repeated characters::\n",
        "\n",
        "    def compress_string(input_string):\n",
        "        compressed_string = \"\"\n",
        "        count = 1\n",
        "        for i in range(len(input_string)):\n",
        "            if i + 1 < len(input_string) and input_string[i] == input_string[i + 1]:\n",
        "                count += 1\n",
        "            else:\n",
        "                compressed_string += input_string[i] + str(count)\n",
        "                count = 1\n",
        "        if len(compressed_string) >= len(input_string):\n",
        "            return input_string\n",
        "        else:\n",
        "            return compressed_string\n",
        "\n",
        "\n",
        "    input_string = input(\"Enter a string : \")\n",
        "    compressed_result = compress_string(input_string)\n",
        "    print(\"Compressed string:\", compressed_result)"
      ],
      "metadata": {
        "colab": {
          "base_uri": "https://localhost:8080/",
          "height": 0
        },
        "id": "K-XLmSVXMqRR",
        "outputId": "aeb18894-63c1-4429-fa16-81e29a21f572"
      },
      "execution_count": 7,
      "outputs": [
        {
          "output_type": "stream",
          "name": "stdout",
          "text": [
            "Enter a string : aaaaaaaaaaaaaaa\n",
            "Compressed string: a15\n"
          ]
        }
      ]
    },
    {
      "cell_type": "code",
      "source": [
        "#7. Write a code to determine if a string has all unique characters\n",
        "\n",
        "def has_unique_characters(input_string):\n",
        "    encountered = set()\n",
        "\n",
        "    for char in input_string:\n",
        "        if char in encountered:\n",
        "            return False\n",
        "        else:\n",
        "            encountered.add(char)\n",
        "    return True\n",
        "\n",
        "\n",
        "string1 = input(\"Enter string 1 : \")\n",
        "\n",
        "print(\"String '{}' has all unique characters: {}\".format(string1, has_unique_characters(string1)))"
      ],
      "metadata": {
        "colab": {
          "base_uri": "https://localhost:8080/",
          "height": 0
        },
        "id": "YnNkHpyCMwNH",
        "outputId": "2451e8ab-1a76-4551-873c-b67b1a8c0bda"
      },
      "execution_count": 8,
      "outputs": [
        {
          "output_type": "stream",
          "name": "stdout",
          "text": [
            "Enter string 1 : Sumit\n",
            "String 'Sumit' has all unique characters: True\n"
          ]
        }
      ]
    },
    {
      "cell_type": "code",
      "source": [
        "#8 Write a code to convert a  given string to uppercase or lowercase::\n",
        "\n",
        "input_string = input(\"Enter a string : \")\n",
        "upper_string = input_string.upper()\n",
        "lower_string = input_string.lower()\n",
        "print()\n",
        "print(\"Uppercase string:\", upper_string)\n",
        "print(\"Lowercase string:\", lower_string)"
      ],
      "metadata": {
        "colab": {
          "base_uri": "https://localhost:8080/",
          "height": 0
        },
        "id": "BEAYtfn4MyQp",
        "outputId": "11cddbe3-4027-4609-ab7a-37e788787edc"
      },
      "execution_count": 9,
      "outputs": [
        {
          "output_type": "stream",
          "name": "stdout",
          "text": [
            "Enter a string : Priyanka\n",
            "\n",
            "Uppercase string: PRIYANKA\n",
            "Lowercase string: priyanka\n"
          ]
        }
      ]
    },
    {
      "cell_type": "code",
      "source": [
        "#9. write a code to count the number of words in a string::\n",
        "\n",
        "def count_words(input_string):\n",
        "    words = input_string.split()\n",
        "    return len(words)\n",
        "\n",
        "\n",
        "input_string = input(\"Enter a string : \")\n",
        "num_words = count_words(input_string)\n",
        "print(\"Number of words in the string:\", num_words)\n"
      ],
      "metadata": {
        "colab": {
          "base_uri": "https://localhost:8080/",
          "height": 0
        },
        "id": "wD-noUShM1X8",
        "outputId": "9f8b8367-f5af-408f-e524-9067199092e9"
      },
      "execution_count": 10,
      "outputs": [
        {
          "output_type": "stream",
          "name": "stdout",
          "text": [
            "Enter a string : My name is priyanka\n",
            "Number of words in the string: 4\n"
          ]
        }
      ]
    },
    {
      "cell_type": "code",
      "source": [
        "#10. write a code to concatenate two strings without using the + operator::\n",
        "def concatenate_strings(str1, str2):\n",
        "    return \"{} {}\".format(str1, str2)\n",
        "\n",
        "\n",
        "string1 = input(\"Enter a string : \")\n",
        "string2 = input(\"Enter an another string : \")\n",
        "result = concatenate_strings(string1, string2)\n",
        "print(\"Concatenated string:\", result)"
      ],
      "metadata": {
        "colab": {
          "base_uri": "https://localhost:8080/",
          "height": 0
        },
        "id": "HDyZyJg8M4Tt",
        "outputId": "1f535bfd-4992-4cf2-c215-039e902317f6"
      },
      "execution_count": 11,
      "outputs": [
        {
          "output_type": "stream",
          "name": "stdout",
          "text": [
            "Enter a string : Priyanka\n",
            "Enter an another string : Goswami\n",
            "Concatenated string: Priyanka Goswami\n"
          ]
        }
      ]
    },
    {
      "cell_type": "code",
      "source": [
        "#11. Write a code to remove all occurrences of a specific element from a list::\n",
        "\n",
        "element = input(\"Enter element of the list separated by space: \").split()\n",
        "element = [int(elem) for elem in element]\n",
        "\n",
        "element_to_remove = int(input(\"Enter the element to remove : \"))\n",
        "\n",
        "remove_element = [item for item in element if item != element_to_remove]\n",
        "\n",
        "if element_to_remove:\n",
        "    print(\"List after removing all occurrences of {}: {}\".format(element_to_remove, remove_element))\n",
        "else:\n",
        "    print(\"Element {} not found in the list.\".format(element_to_remove))"
      ],
      "metadata": {
        "colab": {
          "base_uri": "https://localhost:8080/",
          "height": 0
        },
        "id": "Xd9oEhqGM8PM",
        "outputId": "e5676b65-ec92-4304-e353-519fd279b8eb"
      },
      "execution_count": 13,
      "outputs": [
        {
          "output_type": "stream",
          "name": "stdout",
          "text": [
            "Enter element of the list separated by space: 5 8 5 9 6 7 5 8 6  5\n",
            "Enter the element to remove : 5\n",
            "List after removing all occurrences of 5: [8, 9, 6, 7, 8, 6]\n"
          ]
        }
      ]
    },
    {
      "cell_type": "code",
      "source": [
        "#12. Implement a code to find the second largest number in a given list of integers::\n",
        "\n",
        "def find_second_largest(lst):\n",
        "    sorted_list = sorted(lst, reverse=True)\n",
        "\n",
        "    if len(sorted_list) < 2:\n",
        "        return None\n",
        "\n",
        "    return sorted_list[1]\n",
        "\n",
        "input_list = input(\"Enter element of the list separated by space: \").split()\n",
        "# convert input elements to integers\n",
        "input_list = [int(inp) for inp in input_list]\n",
        "second_largest = find_second_largest(input_list)\n",
        "if second_largest is not None:\n",
        "    print(\"Second largest number: \", second_largest)\n",
        "else:\n",
        "    print(\"The list does not have a second largest number.\")\n",
        ""
      ],
      "metadata": {
        "colab": {
          "base_uri": "https://localhost:8080/",
          "height": 0
        },
        "id": "tr2peF7aNBlX",
        "outputId": "c06c7872-a54b-4ea4-849b-1b36ae1719e0"
      },
      "execution_count": 14,
      "outputs": [
        {
          "output_type": "stream",
          "name": "stdout",
          "text": [
            "Enter element of the list separated by space: 5 8 7 9 4 2 5 8 \n",
            "Second largest number:  8\n"
          ]
        }
      ]
    },
    {
      "cell_type": "code",
      "source": [
        "#13. Create a code to count the occurrences of each element in a list and return a dictionary with elements as keys and their counts as values::\n",
        "\n",
        "my_list = [1, 2, 2, 2, 3, 3, 3, 4, 4, 4, 4]\n",
        "count = {}\n",
        "\n",
        "for item in my_list:\n",
        "    count[item] = count.get(item, 0) +1\n",
        "\n",
        "print(\"Occurrences of each element: \", count)\n",
        ""
      ],
      "metadata": {
        "colab": {
          "base_uri": "https://localhost:8080/",
          "height": 0
        },
        "id": "NRUYeMYUNQ-M",
        "outputId": "debe3849-3a19-46c7-bdac-2913f072ed01"
      },
      "execution_count": 15,
      "outputs": [
        {
          "output_type": "stream",
          "name": "stdout",
          "text": [
            "Occurrences of each element:  {1: 1, 2: 3, 3: 3, 4: 4}\n"
          ]
        }
      ]
    },
    {
      "cell_type": "code",
      "source": [
        "#14. Write a code to reverse a list in-place without using any built-in reverse functions.\n",
        "\n",
        "lis = [1, 2, 3, 4, 5]\n",
        "print(\"Original List: \", lis)\n",
        "\n",
        "n = len(lis)\n",
        "\n",
        "for i in range(n // 2):\n",
        "    lis[i], lis[n - i - 1] = lis[n - i - 1], lis[i]\n",
        "\n",
        "print(\"Reversed list: \", lis)"
      ],
      "metadata": {
        "colab": {
          "base_uri": "https://localhost:8080/",
          "height": 0
        },
        "id": "hGH1Bk_7NVLX",
        "outputId": "8fe92171-c93a-4b50-b82b-524a5a59eb15"
      },
      "execution_count": 16,
      "outputs": [
        {
          "output_type": "stream",
          "name": "stdout",
          "text": [
            "Original List:  [1, 2, 3, 4, 5]\n",
            "Reversed list:  [5, 4, 3, 2, 1]\n"
          ]
        }
      ]
    },
    {
      "cell_type": "code",
      "source": [
        "#15. Implement a code to find and remove duplicates from a list while preserving the original order of elements.\n",
        "\n",
        "my_list = [1, 2, 2, 3, 3, 7,5,5, 6]\n",
        "\n",
        "seen = set()\n",
        "unique_list = []\n",
        "\n",
        "for item in my_list:\n",
        "    if item not in seen:\n",
        "        seen.add(item)\n",
        "        unique_list.append(item)\n",
        "\n",
        "print(\"List after removing duplicates: \", unique_list)"
      ],
      "metadata": {
        "colab": {
          "base_uri": "https://localhost:8080/",
          "height": 0
        },
        "id": "0I2W5ZIBNXj6",
        "outputId": "9da35cd8-41c6-4716-fc98-1fb3d63ced4d"
      },
      "execution_count": 17,
      "outputs": [
        {
          "output_type": "stream",
          "name": "stdout",
          "text": [
            "List after removing duplicates:  [1, 2, 3, 7, 5, 6]\n"
          ]
        }
      ]
    },
    {
      "cell_type": "code",
      "source": [
        "#16. Create a code to check if a given list is sorted (either in ascending or descending order) or not.\n",
        "\n",
        "\n",
        "my_list = [9,8,6,5,3,1]\n",
        "\n",
        "if all(my_list[i] <= my_list[i + 1] for i in range(len(my_list) - 1)):\n",
        "        print(\"Ascending\")\n",
        "\n",
        "if all(my_list[i] >= my_list[i + 1] for i in range(len(my_list) - 1)):\n",
        "    print(\"Descending\")"
      ],
      "metadata": {
        "colab": {
          "base_uri": "https://localhost:8080/",
          "height": 0
        },
        "id": "ndJ7TaetNZhZ",
        "outputId": "640ec3ec-e70d-4505-e956-daa131a834d9"
      },
      "execution_count": 18,
      "outputs": [
        {
          "output_type": "stream",
          "name": "stdout",
          "text": [
            "Descending\n"
          ]
        }
      ]
    },
    {
      "cell_type": "code",
      "source": [
        "\n",
        "#17. Write a code to merge two sorted list into a single sorted list.\n",
        "\n",
        "list1 = [1,4,8,9,6,12,11]\n",
        "list2 = [2,3,7,5,10]\n",
        "\n",
        "merged_list = []\n",
        "\n",
        "i = j = 0\n",
        "\n",
        "while i < len(list1) and j < len(list2):\n",
        "    if list1[i] < list2[j]:\n",
        "        merged_list.append(list1[i])\n",
        "        i += 1\n",
        "    else:\n",
        "        merged_list.append(list2[j])\n",
        "        j += 1\n",
        "\n",
        "while i < len(list1):\n",
        "    merged_list.append(list1[i])\n",
        "    i += 1\n",
        "\n",
        "while j < len(list2):\n",
        "    merged_list.append(list2[j])\n",
        "    j += 1\n",
        "\n",
        "print(merged_list)"
      ],
      "metadata": {
        "colab": {
          "base_uri": "https://localhost:8080/",
          "height": 0
        },
        "id": "LaNkDaJnNarx",
        "outputId": "e09ea924-6170-4de1-86eb-bb299075dbfa"
      },
      "execution_count": 19,
      "outputs": [
        {
          "output_type": "stream",
          "name": "stdout",
          "text": [
            "[1, 2, 3, 4, 7, 5, 8, 9, 6, 10, 12, 11]\n"
          ]
        }
      ]
    },
    {
      "cell_type": "code",
      "source": [
        "#18. Implement a code to find the intersection of two given list.\n",
        "\n",
        "l1 = [5,8,9,6,7,4,3]\n",
        "l2 = [1,2,5,6,9,7,3]\n",
        "\n",
        "set1 = set(l1)\n",
        "set2 = set(l2)\n",
        "\n",
        "intersection_set = set1.intersection(set2)\n",
        "\n",
        "intersection_list = list(intersection_set)\n",
        "\n",
        "print(intersection_list)"
      ],
      "metadata": {
        "colab": {
          "base_uri": "https://localhost:8080/",
          "height": 0
        },
        "id": "lsU1kO3eNdHT",
        "outputId": "3f520e96-7c7d-40dc-fa0d-ecf6015ef168"
      },
      "execution_count": 20,
      "outputs": [
        {
          "output_type": "stream",
          "name": "stdout",
          "text": [
            "[3, 5, 6, 7, 9]\n"
          ]
        }
      ]
    },
    {
      "cell_type": "code",
      "source": [
        "#19, Create a code to find the union of two lists without duplicates.\n",
        "\n",
        "list1 = [1,5,9,3,7,4]\n",
        "list2 = [4,6,11,2,5,8]\n",
        "\n",
        "union_result = list1 + list2\n",
        "\n",
        "my_set = set(union_result)\n",
        "my_list = list(my_set)\n",
        "\n",
        "print(my_list)\n",
        ""
      ],
      "metadata": {
        "colab": {
          "base_uri": "https://localhost:8080/",
          "height": 0
        },
        "id": "z8jGGYjVNeUH",
        "outputId": "08f4a6d2-cf2a-4856-ea3d-a0e2721fc742"
      },
      "execution_count": 21,
      "outputs": [
        {
          "output_type": "stream",
          "name": "stdout",
          "text": [
            "[1, 2, 3, 4, 5, 6, 7, 8, 9, 11]\n"
          ]
        }
      ]
    },
    {
      "cell_type": "code",
      "source": [
        "#21. Write a code that takes two tuples as input and returns a new tuple containing elements that are common to both input tuples.\n",
        "\n",
        "tuple1 = (1,2,5,9,8)\n",
        "tuple2 = (4,5,6,8,9,1)\n",
        "\n",
        "set1 = set(tuple1)\n",
        "set2 = set(tuple2)\n",
        "\n",
        "common_element = set1 & set2\n",
        "common_tuple = tuple(common_element)\n",
        "\n",
        "print(common_tuple)"
      ],
      "metadata": {
        "colab": {
          "base_uri": "https://localhost:8080/",
          "height": 0
        },
        "id": "N_OyHXkJNf-b",
        "outputId": "7509808b-4bf1-42a5-a375-f203b4e53ddc"
      },
      "execution_count": 22,
      "outputs": [
        {
          "output_type": "stream",
          "name": "stdout",
          "text": [
            "(8, 1, 5, 9)\n"
          ]
        }
      ]
    },
    {
      "cell_type": "code",
      "source": [
        "#22. Create a code that prompts the user to enter two sets of integers separated by commas. Then, print the intersection of these two sets::\n",
        "lis_1 = []\n",
        "lis_2 = []\n",
        "\n",
        "l_1 = int(input(\"enter the no of elements :\"))\n",
        "for i in range(l_1):\n",
        "        lis_1.append(int(input(\"enter the element\")))\n",
        "\n",
        "l_2 = int(input(\"enter the no of elements :\"))\n",
        "for j in range(l_2):\n",
        "        lis_2.append(int(input(\"enter the element\")))\n",
        "\n",
        "set_1 = set(lis_1)\n",
        "set_2 = set(lis_2)\n",
        "\n",
        "set_3 = set_1 & set_2 # intersection of two sets\n",
        "\n",
        "print(set_1)\n",
        "print(set_2)\n",
        "\n",
        "print(set_3)"
      ],
      "metadata": {
        "colab": {
          "base_uri": "https://localhost:8080/",
          "height": 0
        },
        "id": "od0lgjKpNhGP",
        "outputId": "ad405590-10a5-475b-db7a-1c74c23579f2"
      },
      "execution_count": 23,
      "outputs": [
        {
          "output_type": "stream",
          "name": "stdout",
          "text": [
            "enter the no of elements :4\n",
            "enter the element1\n",
            "enter the element2\n",
            "enter the element4\n",
            "enter the element8\n",
            "enter the no of elements :4\n",
            "enter the element1\n",
            "enter the element2\n",
            "enter the element5\n",
            "enter the element6\n",
            "{8, 1, 2, 4}\n",
            "{1, 2, 5, 6}\n",
            "{1, 2}\n"
          ]
        }
      ]
    },
    {
      "cell_type": "code",
      "source": [
        "#23. Write a code to concatenate two tuples. The function should take two tuples as input and return a new tuple containing elements from both input tuples::\n",
        "lis_1 = []\n",
        "lis_2 = []\n",
        "\n",
        "l_1 = int(input(\"enter the no of elements :\"))\n",
        "for i in range(l_1):\n",
        "        lis_1.append(int(input(\"enter the element\")))\n",
        "\n",
        "l_2 = int(input(\"enter the no of elements :\"))\n",
        "for j in range(l_2):\n",
        "        lis_2.append(int(input(\"enter the element\")))\n",
        "\n",
        "tup_1 = tuple(lis_1)\n",
        "tup_2 = tuple(lis_2)\n",
        "\n",
        "print(tup_1)\n",
        "print(tup_2)\n",
        "\n",
        "tup_3 = tup_1 + tup_2 # concatenate\n",
        "\n",
        "print(tup_3)"
      ],
      "metadata": {
        "colab": {
          "base_uri": "https://localhost:8080/",
          "height": 0
        },
        "id": "SbVxxpaNNiCc",
        "outputId": "3306d863-332f-4aea-b85a-9570493344d6"
      },
      "execution_count": 24,
      "outputs": [
        {
          "output_type": "stream",
          "name": "stdout",
          "text": [
            "enter the no of elements :3\n",
            "enter the element1\n",
            "enter the element2\n",
            "enter the element3\n",
            "enter the no of elements :3\n",
            "enter the element4\n",
            "enter the element5\n",
            "enter the element6\n",
            "(1, 2, 3)\n",
            "(4, 5, 6)\n",
            "(1, 2, 3, 4, 5, 6)\n"
          ]
        }
      ]
    },
    {
      "cell_type": "code",
      "source": [
        "  #24. Develop a code that prompts the user to input two sets of strings. Then, print the elements that are present in the first set but not in the second set::\n",
        "lis_1 = []\n",
        "lis_2 = []\n",
        "\n",
        "l_1 = (int(input(\"enter the no of elements :\")))\n",
        "for i in range(l_1):\n",
        "    lis_1.append(input(\"enter the element as string:\"))\n",
        "set_1 = set(lis_1)\n",
        "print(set_1)\n",
        "\n",
        "l_2 = (int(input(\"enter the no of elements :\")))\n",
        "for j in range(l_2):\n",
        "    lis_2.append(input(\"enter the element as string:\"))\n",
        "set_2 = set(lis_2)\n",
        "print(set_2)\n",
        "\n",
        "set_3 = set_1 - set_2 # difference of two sets\n",
        "\n",
        "print(set_3)\n"
      ],
      "metadata": {
        "colab": {
          "base_uri": "https://localhost:8080/",
          "height": 0
        },
        "id": "x-FgQo-UNv2R",
        "outputId": "36740929-a25c-4d90-8456-00b17465263d"
      },
      "execution_count": 25,
      "outputs": [
        {
          "output_type": "stream",
          "name": "stdout",
          "text": [
            "enter the no of elements :4\n",
            "enter the element as string:1\n",
            "enter the element as string:2\n",
            "enter the element as string:3\n",
            "enter the element as string:4\n",
            "{'3', '1', '2', '4'}\n",
            "enter the no of elements :4\n",
            "enter the element as string:1\n",
            "enter the element as string:5\n",
            "enter the element as string:2\n",
            "enter the element as string:4\n",
            "{'4', '1', '2', '5'}\n",
            "{'3'}\n"
          ]
        }
      ]
    },
    {
      "cell_type": "code",
      "source": [
        "#25. Create a code that takes a tuple and two integers as input. The function should return a new tuple containing elements from the original tuple within the specified range of indices::\n",
        "lis_0 = []\n",
        "l_0 = int(input(\"enter the no.of elements:\"))\n",
        "\n",
        "for i in range(l_0):\n",
        "    lis_0.append(int(input(\"enter the element:\")))\n",
        "\n",
        "tup_0 = tuple(lis_0)\n",
        "print(tup_0)\n",
        "\n",
        "n_1 = int(input(\"enter the first number:\"))\n",
        "n_2 = int(input(\"enter the second number:\"))\n",
        "\n",
        "tup_1 = tup_0[n_1:n_2]\n",
        "print(tup_1)"
      ],
      "metadata": {
        "colab": {
          "base_uri": "https://localhost:8080/",
          "height": 0
        },
        "id": "ylCzub-nN3PT",
        "outputId": "f82ef3cc-5c43-40bc-b27d-575012a4019d"
      },
      "execution_count": 27,
      "outputs": [
        {
          "output_type": "stream",
          "name": "stdout",
          "text": [
            "enter the no.of elements:9\n",
            "enter the element:1\n",
            "enter the element:4\n",
            "enter the element:78\n",
            "enter the element:45\n",
            "enter the element:12\n",
            "enter the element:46\n",
            "enter the element:4\n",
            "enter the element:4\n",
            "enter the element:3\n",
            "(1, 4, 78, 45, 12, 46, 4, 4, 3)\n",
            "enter the first number:2\n",
            "enter the second number:7\n",
            "(78, 45, 12, 46, 4)\n"
          ]
        }
      ]
    },
    {
      "cell_type": "code",
      "source": [
        "#26. Write a code that prompts the user to input two sets of characters. Then, print the union of these two sets::\n",
        "lis_1 = []\n",
        "lis_2 = []\n",
        "\n",
        "l_1 = (int(input(\"enter the no of elements :\")))\n",
        "for i in range(l_1):\n",
        "    lis_1.append(input(\"enter the element as string:\"))\n",
        "set_1 = set(lis_1)\n",
        "print(set_1)\n",
        "\n",
        "l_2 = (int(input(\"enter the no of elements :\")))\n",
        "for j in range(l_2):\n",
        "    lis_2.append(input(\"enter the element as string:\"))\n",
        "set_2 = set(lis_2)\n",
        "print(set_2)\n",
        "\n",
        "\n",
        "set_3 = set_1 | set_2 # union of two sets\n",
        "\n",
        "\n",
        "print(set_3)"
      ],
      "metadata": {
        "colab": {
          "base_uri": "https://localhost:8080/",
          "height": 0
        },
        "id": "_9w63zY0OOkQ",
        "outputId": "2ba0d239-90a0-4fb2-bfb4-aafd1c34ad69"
      },
      "execution_count": 28,
      "outputs": [
        {
          "output_type": "stream",
          "name": "stdout",
          "text": [
            "enter the no of elements :4\n",
            "enter the element as string:1\n",
            "enter the element as string:5\n",
            "enter the element as string:9\n",
            "enter the element as string:8\n",
            "{'8', '9', '1', '5'}\n",
            "enter the no of elements :4\n",
            "enter the element as string:1\n",
            "enter the element as string:4\n",
            "enter the element as string:7\n",
            "enter the element as string:8\n",
            "{'7', '4', '1', '8'}\n",
            "{'4', '7', '9', '5', '8', '1'}\n"
          ]
        }
      ]
    },
    {
      "cell_type": "code",
      "source": [
        "#27. Develop a code that takes a tuple of integers as input. The function should return the maximum and minimum values from the tuple using tuple unpacking.\n",
        "\n",
        "input_tuple = (7,5,87,1,6,4,3,45)\n",
        "\n",
        "max_value = max(input_tuple)\n",
        "min_value = min(input_tuple)\n",
        "\n",
        "print(\"Maximum value:\", max_value)\n",
        "print(\"Minimum value:\", min_value)\n",
        ""
      ],
      "metadata": {
        "colab": {
          "base_uri": "https://localhost:8080/",
          "height": 0
        },
        "id": "5iCtZTfZOYIz",
        "outputId": "9dc01cef-1ba0-4ae8-c8ef-5254abc4f566"
      },
      "execution_count": 29,
      "outputs": [
        {
          "output_type": "stream",
          "name": "stdout",
          "text": [
            "Maximum value: 87\n",
            "Minimum value: 1\n"
          ]
        }
      ]
    },
    {
      "cell_type": "code",
      "source": [
        "#28. Create a code that defines two sets of integers. Then, print the union, intersection, and difference of these two sets.\n",
        "lis_1 = []\n",
        "lis_2 = []\n",
        "\n",
        "l_1 = (int(input(\"enter the no of elements :\")))\n",
        "for i in range(l_1):\n",
        "    lis_1.append(int(input(\"enter the element as string:\")))\n",
        "set_1 = set(lis_1)\n",
        "print(set_1)\n",
        "\n",
        "l_2 = (int(input(\"enter the no of elements :\")))\n",
        "for j in range(l_2):\n",
        "    lis_2.append(int(input(\"enter the element as string:\")))\n",
        "set_2 = set(lis_2)\n",
        "print(set_2)\n",
        "\n",
        "set_union = set_1 | set_2 # union of two sets\n",
        "set_intersection = set_1 & set_2 # intersection of two sets\n",
        "set_difference = set_1 - set_2 # difference of two sets\n",
        "\n",
        "print(set_union)\n",
        "print(set_intersection)\n",
        "print(set_difference)"
      ],
      "metadata": {
        "colab": {
          "base_uri": "https://localhost:8080/",
          "height": 0
        },
        "id": "1wShulXQOkFJ",
        "outputId": "f997363c-2789-44fb-a511-7f71f431b697"
      },
      "execution_count": 30,
      "outputs": [
        {
          "output_type": "stream",
          "name": "stdout",
          "text": [
            "enter the no of elements :4\n",
            "enter the element as string:1\n",
            "enter the element as string:2\n",
            "enter the element as string:5\n",
            "enter the element as string:8\n",
            "{8, 1, 2, 5}\n",
            "enter the no of elements :4\n",
            "enter the element as string:1\n",
            "enter the element as string:4\n",
            "enter the element as string:8\n",
            "enter the element as string:6\n",
            "{8, 1, 4, 6}\n",
            "{1, 2, 4, 5, 6, 8}\n",
            "{8, 1}\n",
            "{2, 5}\n"
          ]
        }
      ]
    },
    {
      "cell_type": "code",
      "source": [
        "#29. Write a code that takes a tuple and an element as input. The function should return the count of occurrences of the given element in the tuple::\n",
        "lis_0 = []\n",
        "l_0 = int(input(\"enter the no.of elements:\"))\n",
        "\n",
        "for i in range(l_0):\n",
        "    lis_0.append(int(input(\"enter the element:\")))\n",
        "\n",
        "tup_0 = tuple(lis_0)\n",
        "print(tup_0)\n",
        "\n",
        "n_0 = int(input(\"enetr the element to count:\"))\n",
        "count_0 = tup_0.count(n_0)\n",
        "print(\"number of occurrence of\",n_0,\"in the tuple is\",count_0,\"times\")"
      ],
      "metadata": {
        "colab": {
          "base_uri": "https://localhost:8080/",
          "height": 0
        },
        "id": "Ar_6L8VDOmD5",
        "outputId": "143f8f08-11e9-4600-a12d-79932cc4096a"
      },
      "execution_count": 31,
      "outputs": [
        {
          "output_type": "stream",
          "name": "stdout",
          "text": [
            "enter the no.of elements:8\n",
            "enter the element:1\n",
            "enter the element:47\n",
            "enter the element:8\n",
            "enter the element:9\n",
            "enter the element:1\n",
            "enter the element:5\n",
            "enter the element:1\n",
            "enter the element:2\n",
            "(1, 47, 8, 9, 1, 5, 1, 2)\n",
            "enetr the element to count:1\n",
            "number of occurrence of 1 in the tuple is 3 times\n"
          ]
        }
      ]
    },
    {
      "cell_type": "code",
      "source": [
        "#30. Develop a code that prompts the user to input two sets of strings. Then, print the symmetric difference of these two sets::\n",
        "lis_1 = []\n",
        "lis_2 = []\n",
        "\n",
        "l_1 = (int(input(\"enter the no of elements :\")))\n",
        "for i in range(l_1):\n",
        "    lis_1.append(input(\"enter the element as string:\"))\n",
        "set_1 = set(lis_1)\n",
        "print(set_1)\n",
        "\n",
        "l_2 = (int(input(\"enter the no of elements :\")))\n",
        "for j in range(l_2):\n",
        "    lis_2.append(input(\"enter the element as string:\"))\n",
        "set_2 = set(lis_2)\n",
        "print(set_2)\n",
        "\n",
        "set_3 = set_1 ^ set_2 #  symmetric difference of two sets\n",
        "\n",
        "print(set_3)"
      ],
      "metadata": {
        "colab": {
          "base_uri": "https://localhost:8080/",
          "height": 0
        },
        "id": "7tNybGWbOtnH",
        "outputId": "73178d3b-a75a-4c58-9040-ae73fc5c6cdb"
      },
      "execution_count": 32,
      "outputs": [
        {
          "output_type": "stream",
          "name": "stdout",
          "text": [
            "enter the no of elements :4\n",
            "enter the element as string:1\n",
            "enter the element as string:2\n",
            "enter the element as string:4\n",
            "enter the element as string:6\n",
            "{'6', '4', '1', '2'}\n",
            "enter the no of elements :4\n",
            "enter the element as string:1\n",
            "enter the element as string:7\n",
            "enter the element as string:6\n",
            "enter the element as string:8\n",
            "{'7', '8', '1', '6'}\n",
            "{'4', '2', '7', '8'}\n"
          ]
        }
      ]
    },
    {
      "cell_type": "code",
      "source": [
        "#31. Write a code that takes a list of words as input and returns a dictionary where the keys are unique words and the values are the frequencies of those words in the input list.\n",
        "\n",
        "input_list = [\"apple\", \"banana\", \"apple\", \"orange\", \"banana\", \"apple\"]\n",
        "freq_dict = {}\n",
        "\n",
        "for word in input_list:\n",
        "    if word in freq_dict:\n",
        "        freq_dict[word] += 1\n",
        "    else:\n",
        "        freq_dict[word] = 1\n",
        "\n",
        "print(\"Word frequency dictionary:\", freq_dict)"
      ],
      "metadata": {
        "colab": {
          "base_uri": "https://localhost:8080/",
          "height": 0
        },
        "id": "vxU2Gxq7O20P",
        "outputId": "152c7bb4-d192-498e-c504-ccad339726b1"
      },
      "execution_count": 33,
      "outputs": [
        {
          "output_type": "stream",
          "name": "stdout",
          "text": [
            "Word frequency dictionary: {'apple': 3, 'banana': 2, 'orange': 1}\n"
          ]
        }
      ]
    },
    {
      "cell_type": "code",
      "source": [
        "#32. Write a code that takes two dictionaries as input and merges them into a single dictionary. If there are common keys, the values should be added together.\n",
        "\n",
        "dict1 = {'apple': 3, 'banana': 2, 'orange': 1}\n",
        "dict2 = {'banana': 1, 'pineapple': 2, 'grape': 1}\n",
        "\n",
        "merged_dict = {}\n",
        "\n",
        "for key, value in dict1.items():\n",
        "    merged_dict[key] = value\n",
        "\n",
        "for key, value in dict2.items():\n",
        "    if key in merged_dict:\n",
        "        merged_dict[key] += value\n",
        "    else:\n",
        "        merged_dict[key] = value\n",
        "\n",
        "print(\"Merged dictionary:\", merged_dict)"
      ],
      "metadata": {
        "colab": {
          "base_uri": "https://localhost:8080/",
          "height": 0
        },
        "id": "Y0AMQafKO9-4",
        "outputId": "caa39d0d-229c-43da-e8ee-aa3653529bd6"
      },
      "execution_count": 34,
      "outputs": [
        {
          "output_type": "stream",
          "name": "stdout",
          "text": [
            "Merged dictionary: {'apple': 3, 'banana': 3, 'orange': 1, 'pineapple': 2, 'grape': 1}\n"
          ]
        }
      ]
    },
    {
      "cell_type": "code",
      "source": [
        "#33. Write a code to access a value in a nested dictionary. The function should take the dictionary and a list of keys as input, and return the corresponding value. If any of the keys do not exist in the dictionary, the function should return None.\n",
        "\n",
        "def access_nested_value(dictionary, keys):\n",
        "    nested_dict = dictionary\n",
        "    for key in keys:\n",
        "        if key in nested_dict:\n",
        "            nested_dict = nested_dict[key]\n",
        "        else:\n",
        "            return None\n",
        "    return nested_dict\n",
        "\n",
        "\n",
        "nested_dictionary = {'outer': {'inner1': {'value1': 1,'value2': 2},'inner2': {'value3': 3,'value4': 4}}}\n",
        "\n",
        "\n",
        "keys_to_access = ['outer', 'inner1', 'value2']\n",
        "result = access_nested_value(nested_dictionary, keys_to_access)\n",
        "print(\"Accessed value:\", result)"
      ],
      "metadata": {
        "colab": {
          "base_uri": "https://localhost:8080/",
          "height": 0
        },
        "id": "vRy8CCy1O_bw",
        "outputId": "fa18f7fc-478f-4a19-8c63-cf03309e9d89"
      },
      "execution_count": 35,
      "outputs": [
        {
          "output_type": "stream",
          "name": "stdout",
          "text": [
            "Accessed value: 2\n"
          ]
        }
      ]
    },
    {
      "cell_type": "code",
      "source": [
        "#34. Write a code that takes a dictionary as input and returns a sorted version of it based on the values. You can choose whether to sort in ascending or descending order.\n",
        "\n",
        "def sort_dictionary_by_values(dictionary, reverse=False):\n",
        "    sorted_dict = dict(sorted(dictionary.items(), key=lambda item: item[1], reverse=reverse))\n",
        "    return sorted_dict\n",
        "\n",
        "\n",
        "input_dict = {'apple': 3, 'banana': 2, 'orange': 1, 'pineapple': 5, 'grape': 4}\n",
        "sorted_dict_asc = sort_dictionary_by_values(input_dict)\n",
        "print(\"Sorted dictionary (ascending order):\", sorted_dict_asc)\n",
        "\n",
        "sorted_dict_desc = sort_dictionary_by_values(input_dict, reverse=True)\n",
        "print(\"Sorted dictionary (descending order):\", sorted_dict_desc)"
      ],
      "metadata": {
        "colab": {
          "base_uri": "https://localhost:8080/",
          "height": 0
        },
        "id": "RKsUNLdIPAr2",
        "outputId": "54df135f-91ac-4aed-a827-73ae17b23887"
      },
      "execution_count": 36,
      "outputs": [
        {
          "output_type": "stream",
          "name": "stdout",
          "text": [
            "Sorted dictionary (ascending order): {'orange': 1, 'banana': 2, 'apple': 3, 'grape': 4, 'pineapple': 5}\n",
            "Sorted dictionary (descending order): {'pineapple': 5, 'grape': 4, 'apple': 3, 'banana': 2, 'orange': 1}\n"
          ]
        }
      ]
    },
    {
      "cell_type": "code",
      "source": [
        "#35. Write a code that inverts a dictionary, swapping keys and values. Ensure that the inverted dictionary correctly handles cases where multiple keys have the same value by storing the keys as a list in the inverted dictionary.\n",
        "\n",
        "def invert_dictionary(dictionary):\n",
        "    inverted_dict = {}\n",
        "    for key, value in dictionary.items():\n",
        "        if value in inverted_dict:\n",
        "            inverted_dict[value].append(key)\n",
        "        else:\n",
        "            inverted_dict[value] = [key]\n",
        "    return inverted_dict\n",
        "\n",
        "\n",
        "input_dict = {'apple': 3, 'banana': 2, 'orange': 1, 'grape': 3}\n",
        "inverted_dict = invert_dictionary(input_dict)\n",
        "print(\"Inverted dictionary:\", inverted_dict)"
      ],
      "metadata": {
        "colab": {
          "base_uri": "https://localhost:8080/",
          "height": 0
        },
        "id": "2E2Oy0K2PCL6",
        "outputId": "657e5a76-f1c4-47a1-8cfe-cab32efebd2f"
      },
      "execution_count": 37,
      "outputs": [
        {
          "output_type": "stream",
          "name": "stdout",
          "text": [
            "Inverted dictionary: {3: ['apple', 'grape'], 2: ['banana'], 1: ['orange']}\n"
          ]
        }
      ]
    },
    {
      "cell_type": "code",
      "source": [],
      "metadata": {
        "id": "itNL43JaPDUL"
      },
      "execution_count": null,
      "outputs": []
    }
  ]
}